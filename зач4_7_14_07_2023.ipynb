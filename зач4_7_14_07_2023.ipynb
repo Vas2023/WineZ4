{
 "cells": [
  {
   "cell_type": "markdown",
   "metadata": {},
   "source": [
    "# Поиск истины в вине\n",
    "\n",
    "<img src=\"https://i.pinimg.com/originals/35/fd/2f/35fd2fdccb58c2250241113f12b55d14.jpg\" width=\"300\">\n",
    "\n",
    "\n"
   ]
  },
  {
   "cell_type": "markdown",
   "metadata": {},
   "source": [
    "\n",
    "\n",
    "1.  Провести исследовательский анализ данных. Файл в зачете 3. wine_reviews.csv\n",
    "\n",
    "2. Обработать пустые значения\n",
    "\n",
    "3. Убрать дубликаты\n",
    "\n",
    "4. Выполнить описательную статистику и посмотреть каждый признак отдельно.\n",
    "\n",
    "5. Найти зависимости  цвета и рейтинга в зависимости от страны, цвета вина и сортом винограда. Сделать выводы. (Определить, какие вины лидируют по рейтингам. Построить график «ящик с усами» по рейтингам в разбивке по странам, по сортам вина. Построить диаграмму рассеяния и посчитайте корреляцию между рейтингами и ценами. )\n",
    "\n",
    "6. Ответить на вопросы:\n",
    "\n",
    "- Какая страна производила самое дорогое вино? Какое вино было самым дешевым?\n",
    "\n",
    "-  Определите самый популярный сорт вина по странам \n",
    "\n",
    "-  Вина какой области (province) получают наилучший рейтинг? Более дорогие вина оцениваются выше?\n",
    "\n",
    "- Определить, какие вина лидируют по рейтингам. Выберите несколько вин с наилучшим рейтингом.\n",
    "\n",
    "- Какие винодельни производят самые дорогие/высоко оцененные вина?\n",
    "\n",
    "- Какие винодельни/регионы/страны производят вина с самым низким рейтингом?\n",
    "\n",
    "\n"
   ]
  },
  {
   "cell_type": "markdown",
   "metadata": {},
   "source": [
    "# 1.Провести исследовательский анализ данных. Файл в зачете 3. wine_reviews.csv"
   ]
  },
  {
   "cell_type": "code",
   "execution_count": 1,
   "metadata": {
    "ExecuteTime": {
     "end_time": "2018-10-25T13:43:07.950659Z",
     "start_time": "2018-10-25T13:43:07.924387Z"
    }
   },
   "outputs": [
    {
     "data": {
      "text/html": [
       "<div>\n",
       "<style scoped>\n",
       "    .dataframe tbody tr th:only-of-type {\n",
       "        vertical-align: middle;\n",
       "    }\n",
       "\n",
       "    .dataframe tbody tr th {\n",
       "        vertical-align: top;\n",
       "    }\n",
       "\n",
       "    .dataframe thead th {\n",
       "        text-align: right;\n",
       "    }\n",
       "</style>\n",
       "<table border=\"1\" class=\"dataframe\">\n",
       "  <thead>\n",
       "    <tr style=\"text-align: right;\">\n",
       "      <th></th>\n",
       "      <th>country</th>\n",
       "      <th>description</th>\n",
       "      <th>designation</th>\n",
       "      <th>points</th>\n",
       "      <th>price</th>\n",
       "      <th>province</th>\n",
       "      <th>region_1</th>\n",
       "      <th>region_2</th>\n",
       "      <th>variety</th>\n",
       "      <th>winery</th>\n",
       "    </tr>\n",
       "  </thead>\n",
       "  <tbody>\n",
       "    <tr>\n",
       "      <th>0</th>\n",
       "      <td>US</td>\n",
       "      <td>With a delicate, silky mouthfeel and bright ac...</td>\n",
       "      <td>NaN</td>\n",
       "      <td>86</td>\n",
       "      <td>23.0</td>\n",
       "      <td>California</td>\n",
       "      <td>Central Coast</td>\n",
       "      <td>Central Coast</td>\n",
       "      <td>Pinot Noir</td>\n",
       "      <td>MacMurray Ranch</td>\n",
       "    </tr>\n",
       "    <tr>\n",
       "      <th>1</th>\n",
       "      <td>Italy</td>\n",
       "      <td>D'Alceo is a drop dead gorgeous wine that ooze...</td>\n",
       "      <td>D'Alceo</td>\n",
       "      <td>96</td>\n",
       "      <td>275.0</td>\n",
       "      <td>Tuscany</td>\n",
       "      <td>Toscana</td>\n",
       "      <td>NaN</td>\n",
       "      <td>Red Blend</td>\n",
       "      <td>Castello dei Rampolla</td>\n",
       "    </tr>\n",
       "    <tr>\n",
       "      <th>2</th>\n",
       "      <td>France</td>\n",
       "      <td>The great dominance of Cabernet Sauvignon in t...</td>\n",
       "      <td>NaN</td>\n",
       "      <td>91</td>\n",
       "      <td>40.0</td>\n",
       "      <td>Bordeaux</td>\n",
       "      <td>Haut-Médoc</td>\n",
       "      <td>NaN</td>\n",
       "      <td>Bordeaux-style Red Blend</td>\n",
       "      <td>Château Bernadotte</td>\n",
       "    </tr>\n",
       "    <tr>\n",
       "      <th>3</th>\n",
       "      <td>Italy</td>\n",
       "      <td>The modest cherry, dark berry and black tea no...</td>\n",
       "      <td>NaN</td>\n",
       "      <td>81</td>\n",
       "      <td>15.0</td>\n",
       "      <td>Tuscany</td>\n",
       "      <td>Chianti Classico</td>\n",
       "      <td>NaN</td>\n",
       "      <td>Sangiovese</td>\n",
       "      <td>Valiano</td>\n",
       "    </tr>\n",
       "    <tr>\n",
       "      <th>4</th>\n",
       "      <td>US</td>\n",
       "      <td>Exceedingly light in color, scent and flavor, ...</td>\n",
       "      <td>NaN</td>\n",
       "      <td>83</td>\n",
       "      <td>25.0</td>\n",
       "      <td>Oregon</td>\n",
       "      <td>Rogue Valley</td>\n",
       "      <td>Southern Oregon</td>\n",
       "      <td>Pinot Noir</td>\n",
       "      <td>Deer Creek</td>\n",
       "    </tr>\n",
       "    <tr>\n",
       "      <th>...</th>\n",
       "      <td>...</td>\n",
       "      <td>...</td>\n",
       "      <td>...</td>\n",
       "      <td>...</td>\n",
       "      <td>...</td>\n",
       "      <td>...</td>\n",
       "      <td>...</td>\n",
       "      <td>...</td>\n",
       "      <td>...</td>\n",
       "      <td>...</td>\n",
       "    </tr>\n",
       "    <tr>\n",
       "      <th>19995</th>\n",
       "      <td>France</td>\n",
       "      <td>Firm wine, with tannins to match the chunky st...</td>\n",
       "      <td>Mansois</td>\n",
       "      <td>88</td>\n",
       "      <td>12.0</td>\n",
       "      <td>Southwest France</td>\n",
       "      <td>Marcillac</td>\n",
       "      <td>NaN</td>\n",
       "      <td>Mansois</td>\n",
       "      <td>Lionel Osmin &amp; Cie</td>\n",
       "    </tr>\n",
       "    <tr>\n",
       "      <th>19996</th>\n",
       "      <td>US</td>\n",
       "      <td>The vineyard is on the Napa side of Carneros. ...</td>\n",
       "      <td>Estate Vineyard</td>\n",
       "      <td>89</td>\n",
       "      <td>50.0</td>\n",
       "      <td>California</td>\n",
       "      <td>Carneros</td>\n",
       "      <td>Napa-Sonoma</td>\n",
       "      <td>Pinot Noir</td>\n",
       "      <td>Bouchaine</td>\n",
       "    </tr>\n",
       "    <tr>\n",
       "      <th>19997</th>\n",
       "      <td>Italy</td>\n",
       "      <td>Lighea is a terrific wine and an excellent pai...</td>\n",
       "      <td>Lighea</td>\n",
       "      <td>87</td>\n",
       "      <td>20.0</td>\n",
       "      <td>Sicily &amp; Sardinia</td>\n",
       "      <td>Sicilia</td>\n",
       "      <td>NaN</td>\n",
       "      <td>Zibibbo</td>\n",
       "      <td>Donnafugata</td>\n",
       "    </tr>\n",
       "    <tr>\n",
       "      <th>19998</th>\n",
       "      <td>Italy</td>\n",
       "      <td>Organically farmed Cannonau grapes deliver sma...</td>\n",
       "      <td>Le Sabbie</td>\n",
       "      <td>87</td>\n",
       "      <td>NaN</td>\n",
       "      <td>Sicily &amp; Sardinia</td>\n",
       "      <td>Cannonau di Sardegna</td>\n",
       "      <td>NaN</td>\n",
       "      <td>Cannonau</td>\n",
       "      <td>Meloni</td>\n",
       "    </tr>\n",
       "    <tr>\n",
       "      <th>19999</th>\n",
       "      <td>US</td>\n",
       "      <td>Grown on the Sonoma side of the appellation, i...</td>\n",
       "      <td>NaN</td>\n",
       "      <td>92</td>\n",
       "      <td>35.0</td>\n",
       "      <td>California</td>\n",
       "      <td>Carneros</td>\n",
       "      <td>Napa-Sonoma</td>\n",
       "      <td>Syrah</td>\n",
       "      <td>Saintsbury</td>\n",
       "    </tr>\n",
       "  </tbody>\n",
       "</table>\n",
       "<p>20000 rows × 10 columns</p>\n",
       "</div>"
      ],
      "text/plain": [
       "      country                                        description  \\\n",
       "0          US  With a delicate, silky mouthfeel and bright ac...   \n",
       "1       Italy  D'Alceo is a drop dead gorgeous wine that ooze...   \n",
       "2      France  The great dominance of Cabernet Sauvignon in t...   \n",
       "3       Italy  The modest cherry, dark berry and black tea no...   \n",
       "4          US  Exceedingly light in color, scent and flavor, ...   \n",
       "...       ...                                                ...   \n",
       "19995  France  Firm wine, with tannins to match the chunky st...   \n",
       "19996      US  The vineyard is on the Napa side of Carneros. ...   \n",
       "19997   Italy  Lighea is a terrific wine and an excellent pai...   \n",
       "19998   Italy  Organically farmed Cannonau grapes deliver sma...   \n",
       "19999      US  Grown on the Sonoma side of the appellation, i...   \n",
       "\n",
       "           designation  points  price           province  \\\n",
       "0                  NaN      86   23.0         California   \n",
       "1              D'Alceo      96  275.0            Tuscany   \n",
       "2                  NaN      91   40.0           Bordeaux   \n",
       "3                  NaN      81   15.0            Tuscany   \n",
       "4                  NaN      83   25.0             Oregon   \n",
       "...                ...     ...    ...                ...   \n",
       "19995          Mansois      88   12.0   Southwest France   \n",
       "19996  Estate Vineyard      89   50.0         California   \n",
       "19997           Lighea      87   20.0  Sicily & Sardinia   \n",
       "19998        Le Sabbie      87    NaN  Sicily & Sardinia   \n",
       "19999              NaN      92   35.0         California   \n",
       "\n",
       "                   region_1         region_2                   variety  \\\n",
       "0             Central Coast    Central Coast                Pinot Noir   \n",
       "1                   Toscana              NaN                 Red Blend   \n",
       "2                Haut-Médoc              NaN  Bordeaux-style Red Blend   \n",
       "3          Chianti Classico              NaN                Sangiovese   \n",
       "4              Rogue Valley  Southern Oregon                Pinot Noir   \n",
       "...                     ...              ...                       ...   \n",
       "19995             Marcillac              NaN                   Mansois   \n",
       "19996              Carneros      Napa-Sonoma                Pinot Noir   \n",
       "19997               Sicilia              NaN                   Zibibbo   \n",
       "19998  Cannonau di Sardegna              NaN                  Cannonau   \n",
       "19999              Carneros      Napa-Sonoma                     Syrah   \n",
       "\n",
       "                      winery  \n",
       "0            MacMurray Ranch  \n",
       "1      Castello dei Rampolla  \n",
       "2         Château Bernadotte  \n",
       "3                    Valiano  \n",
       "4                 Deer Creek  \n",
       "...                      ...  \n",
       "19995     Lionel Osmin & Cie  \n",
       "19996              Bouchaine  \n",
       "19997            Donnafugata  \n",
       "19998                 Meloni  \n",
       "19999             Saintsbury  \n",
       "\n",
       "[20000 rows x 10 columns]"
      ]
     },
     "execution_count": 1,
     "metadata": {},
     "output_type": "execute_result"
    }
   ],
   "source": [
    "import pandas as pd\n",
    "import numpy as np\n",
    "import missingno as msno\n",
    "import seaborn as sns\n",
    "import matplotlib.pyplot as plt\n",
    "\n",
    "# Загрузка датасета\n",
    "df=pd.read_csv('wine_reviews.csv') # читаем файл данных\n",
    "color = {\n",
    "    \"Chardonnay\": \"white\",\n",
    "    \"Pinot Noir\": \"red\",\n",
    "    \"Cabernet Sauvignon\": \"red\",\n",
    "    \"Red Blend\": \"red\",\n",
    "    \"Bordeaux-style Red Blend\": \"red\",\n",
    "    \"Sauvignon Blanc\": \"white\",\n",
    "    \"Syrah\": \"red\",\n",
    "    \"Riesling\": \"red\",\n",
    "    \"Merlot\": \"red\",\n",
    "    \"Zinfandel\": \"red\",\n",
    "    \"Sangiovese\": \"red\",\n",
    "    \"Malbec\": \"red\",\n",
    "    \"White Blend\": \"white\",\n",
    "    \"Rosé\": \"other\",\n",
    "    \"Tempranillo\": \"red\",\n",
    "    \"Nebbiolo\": \"red\",\n",
    "    \"Portuguese Red\": \"red\",\n",
    "    \"Sparkling Blend\": \"other\",\n",
    "    \"Shiraz\": \"red\",\n",
    "    \"Corvina, Rondinella, Molinara\": \"red\",\n",
    "    \"Rhône-style Red Blend\": \"red\",\n",
    "    \"Barbera\": \"red\",\n",
    "    \"Pinot Gris\": \"white\",\n",
    "    \"Viognier\": \"white\",\n",
    "    \"Bordeaux-style White Blend\": \"white\",\n",
    "    \"Champagne Blend\": \"other\",\n",
    "    \"Port\": \"red\",\n",
    "    \"Grüner Veltliner\": \"white\",\n",
    "    \"Gewürztraminer\": \"white\",\n",
    "    \"Portuguese White\": \"white\",\n",
    "    \"Petite Sirah\": \"red\",\n",
    "    \"Carmenère\": \"red\"\n",
    "}\n",
    "country_to_continent = {\n",
    "'Italy':'Europe',\n",
    "'Portugal':'Europe',\n",
    "'US':'North America',\n",
    "'Spain':'Europe',\n",
    "'France':'Europe',\n",
    "'Germany':'Europe',\n",
    "'Argentina':'Latin America',\n",
    "'Chile':'Latin America',\n",
    "'Australia': 'Oceania',\n",
    "'Austria': 'Europe',\n",
    "'South Africa': 'Africa',\n",
    "'New Zealand': 'Oceania',\n",
    "'Israel': 'Asia',\n",
    "'Hungary':'Europe',\n",
    "'Greece':'Europe',\n",
    "'Romania':'Europe',\n",
    "'Mexico':'Latin America',\n",
    "'Canada':'North America',\n",
    "'Turkey': 'Asia',\n",
    "'Czech Republic': 'Europe',\n",
    "'Slovenia': 'Europe',\n",
    "'Luxembourg': 'Europe',\n",
    "'Croatia': 'Europe',\n",
    "'Georgia':'Europe',\n",
    "'Uruguay': 'Latin America',\n",
    "'England': 'Europe',\n",
    "'Lebanon': 'Asia',\n",
    "'Serbia': 'Europe',\n",
    "'Brazil': 'Latin America',\n",
    "'Moldova': 'Europe',\n",
    "'Morocco':'Africa',\n",
    "'Peru':'Latin America',\n",
    "'India':'Asia',\n",
    "'Bulgaria':'Europe',\n",
    "'Cyprus': 'Europe',\n",
    "'Armenia':'Asia',\n",
    "'Switzerland':'Europe',\n",
    "'Bosnia and Herzegovina':'Europe',\n",
    "'Ukraine':'Europe',\n",
    "'Slovakia':'Europe',\n",
    "'Macedonia':'Europe',\n",
    "'China':'Asia',\n",
    "'Egypt':'Africa'\n",
    "}\n",
    "df  #размерность данных\n"
   ]
  },
  {
   "cell_type": "code",
   "execution_count": 2,
   "metadata": {},
   "outputs": [],
   "source": [
    "sns.set()# выполняет настройку стиля графиков по умолчанию"
   ]
  },
  {
   "cell_type": "code",
   "execution_count": 3,
   "metadata": {},
   "outputs": [
    {
     "data": {
      "text/plain": [
       "country         object\n",
       "description     object\n",
       "designation     object\n",
       "points           int64\n",
       "price          float64\n",
       "province        object\n",
       "region_1        object\n",
       "region_2        object\n",
       "variety         object\n",
       "winery          object\n",
       "dtype: object"
      ]
     },
     "execution_count": 3,
     "metadata": {},
     "output_type": "execute_result"
    }
   ],
   "source": [
    "df.dtypes #тип данных"
   ]
  },
  {
   "cell_type": "markdown",
   "metadata": {},
   "source": [
    "# 2.Обработать пустые значения"
   ]
  },
  {
   "cell_type": "code",
   "execution_count": 4,
   "metadata": {},
   "outputs": [
    {
     "data": {
      "text/plain": [
       "country            0\n",
       "description        0\n",
       "designation     6001\n",
       "points             0\n",
       "price           1802\n",
       "province           0\n",
       "region_1        3457\n",
       "region_2       11942\n",
       "variety            0\n",
       "winery             0\n",
       "dtype: int64"
      ]
     },
     "execution_count": 4,
     "metadata": {},
     "output_type": "execute_result"
    }
   ],
   "source": [
    "df.isna().sum() # количество пропущенных значений "
   ]
  },
  {
   "cell_type": "code",
   "execution_count": 5,
   "metadata": {},
   "outputs": [
    {
     "data": {
      "text/plain": [
       "Index(['country', 'description', 'points', 'price', 'province', 'variety',\n",
       "       'winery'],\n",
       "      dtype='object')"
      ]
     },
     "execution_count": 5,
     "metadata": {},
     "output_type": "execute_result"
    }
   ],
   "source": [
    "df.dropna(axis='index',subset=['price'],inplace=True)\n",
    "df.drop(columns=['designation','region_1','region_2'],inplace=True)\n",
    "df.columns"
   ]
  },
  {
   "cell_type": "code",
   "execution_count": 6,
   "metadata": {},
   "outputs": [
    {
     "data": {
      "text/plain": [
       "<Axes: >"
      ]
     },
     "execution_count": 6,
     "metadata": {},
     "output_type": "execute_result"
    },
    {
     "data": {
      "image/png": "[encoded data removed]",
      "text/plain": [
       "<Figure size 2500x1000 with 3 Axes>"
      ]
     },
     "metadata": {},
     "output_type": "display_data"
    }
   ],
   "source": [
    "msno.bar(df)"
   ]
  },
  {
   "cell_type": "markdown",
   "metadata": {},
   "source": [
    "# 3.Убрать дубликаты"
   ]
  },
  {
   "cell_type": "code",
   "execution_count": 7,
   "metadata": {},
   "outputs": [],
   "source": [
    "df.drop_duplicates(inplace=True)"
   ]
  },
  {
   "cell_type": "markdown",
   "metadata": {},
   "source": [
    "# 4.Выполнить описательную статистику и посмотреть каждый признак отдельно."
   ]
  },
  {
   "cell_type": "code",
   "execution_count": 8,
   "metadata": {},
   "outputs": [
    {
     "data": {
      "text/plain": [
       "country         object\n",
       "description     object\n",
       "points           int64\n",
       "price          float64\n",
       "province        object\n",
       "variety         object\n",
       "winery          object\n",
       "dtype: object"
      ]
     },
     "execution_count": 8,
     "metadata": {},
     "output_type": "execute_result"
    }
   ],
   "source": [
    "df.dtypes #тип данных"
   ]
  },
  {
   "cell_type": "code",
   "execution_count": 9,
   "metadata": {},
   "outputs": [
    {
     "data": {
      "text/plain": [
       "<Axes: >"
      ]
     },
     "execution_count": 9,
     "metadata": {},
     "output_type": "execute_result"
    },
    {
     "data": {
      "image/png": "[encoded data removed]",
      "text/plain": [
       "<Figure size 2500x1000 with 3 Axes>"
      ]
     },
     "metadata": {},
     "output_type": "display_data"
    }
   ],
   "source": [
    "msno.bar(df)"
   ]
  },
  {
   "cell_type": "markdown",
   "metadata": {},
   "source": [
    "# 5.Найти зависимости цвета и рейтинга в зависимости от страны, цвета вина и сортом винограда.\n",
    "# I.Сделать выводы. (Определить, какие вины лидируют по рейтингам.\n",
    "   # II.Построить график «ящик с усами» по рейтингам в разбивке по          странам,\n",
    "   # по сортам вина. \n",
    "   # III.Построить диаграмму рассеяния и посчитайте корреляцию между рейтингами и ценами. )"
   ]
  },
  {
   "cell_type": "markdown",
   "metadata": {},
   "source": [
    "<h1 style=\"color:blue;\">Зависимости цвета и рейтинга в зависимости от страны</h1>"
   ]
  },
  {
   "cell_type": "code",
   "execution_count": 10,
   "metadata": {},
   "outputs": [],
   "source": [
    "#На основе словаря `color` создайте переменную,\n",
    "#в которой закодирован цвет вина\n",
    "df['color']=df['variety'].map(color)"
   ]
  },
  {
   "cell_type": "code",
   "execution_count": 11,
   "metadata": {},
   "outputs": [],
   "source": [
    "#На основе словаря `country_to_continent` создайте переменную,принадлежности страны континенту\n",
    "\n",
    "df['country_to_continent']=df['country'].map(country_to_continent)"
   ]
  },
  {
   "cell_type": "code",
   "execution_count": 12,
   "metadata": {},
   "outputs": [],
   "source": [
    "df['color'].fillna(\"other1\",inplace=True)   \n",
    "# df.dropna(axis='index',subset=['color'],inplace=True)"
   ]
  },
  {
   "cell_type": "code",
   "execution_count": 13,
   "metadata": {},
   "outputs": [],
   "source": [
    "df['country_to_continent'].fillna(\"Unknown\",inplace=True)"
   ]
  },
  {
   "cell_type": "code",
   "execution_count": 14,
   "metadata": {},
   "outputs": [
    {
     "name": "stdout",
     "output_type": "stream",
     "text": [
      "US Italy France Austria Chile Spain Australia South Africa New Zealand Portugal Argentina Germany Greece Canada Israel Romania Croatia Hungary Mexico Slovenia Lebanon China Bulgaria Cyprus Switzerland Turkey Georgia Moldova Uruguay Montenegro Serbia South Korea Ukraine Bosnia and Herzegovina Brazil US-France Luxembourg\n",
      "red white other1 other\n"
     ]
    },
    {
     "data": {
      "text/html": [
       "<div>\n",
       "<style scoped>\n",
       "    .dataframe tbody tr th:only-of-type {\n",
       "        vertical-align: middle;\n",
       "    }\n",
       "\n",
       "    .dataframe tbody tr th {\n",
       "        vertical-align: top;\n",
       "    }\n",
       "\n",
       "    .dataframe thead th {\n",
       "        text-align: right;\n",
       "    }\n",
       "</style>\n",
       "<table border=\"1\" class=\"dataframe\">\n",
       "  <thead>\n",
       "    <tr style=\"text-align: right;\">\n",
       "      <th></th>\n",
       "      <th></th>\n",
       "      <th>count</th>\n",
       "      <th>mean</th>\n",
       "      <th>std</th>\n",
       "      <th>min</th>\n",
       "      <th>25%</th>\n",
       "      <th>50%</th>\n",
       "      <th>75%</th>\n",
       "      <th>max</th>\n",
       "    </tr>\n",
       "    <tr>\n",
       "      <th>country</th>\n",
       "      <th>color</th>\n",
       "      <th></th>\n",
       "      <th></th>\n",
       "      <th></th>\n",
       "      <th></th>\n",
       "      <th></th>\n",
       "      <th></th>\n",
       "      <th></th>\n",
       "      <th></th>\n",
       "    </tr>\n",
       "  </thead>\n",
       "  <tbody>\n",
       "    <tr>\n",
       "      <th rowspan=\"4\" valign=\"top\">Argentina</th>\n",
       "      <th>other</th>\n",
       "      <td>10.0</td>\n",
       "      <td>83.600000</td>\n",
       "      <td>1.897367</td>\n",
       "      <td>80.0</td>\n",
       "      <td>83.00</td>\n",
       "      <td>83.5</td>\n",
       "      <td>84.75</td>\n",
       "      <td>87.0</td>\n",
       "    </tr>\n",
       "    <tr>\n",
       "      <th>other1</th>\n",
       "      <td>102.0</td>\n",
       "      <td>85.745098</td>\n",
       "      <td>3.039953</td>\n",
       "      <td>80.0</td>\n",
       "      <td>84.00</td>\n",
       "      <td>86.0</td>\n",
       "      <td>87.00</td>\n",
       "      <td>94.0</td>\n",
       "    </tr>\n",
       "    <tr>\n",
       "      <th>red</th>\n",
       "      <td>489.0</td>\n",
       "      <td>86.670757</td>\n",
       "      <td>3.377236</td>\n",
       "      <td>80.0</td>\n",
       "      <td>84.00</td>\n",
       "      <td>87.0</td>\n",
       "      <td>89.00</td>\n",
       "      <td>97.0</td>\n",
       "    </tr>\n",
       "    <tr>\n",
       "      <th>white</th>\n",
       "      <td>79.0</td>\n",
       "      <td>84.088608</td>\n",
       "      <td>2.045570</td>\n",
       "      <td>80.0</td>\n",
       "      <td>83.00</td>\n",
       "      <td>84.0</td>\n",
       "      <td>85.00</td>\n",
       "      <td>89.0</td>\n",
       "    </tr>\n",
       "    <tr>\n",
       "      <th>Australia</th>\n",
       "      <th>other</th>\n",
       "      <td>14.0</td>\n",
       "      <td>84.857143</td>\n",
       "      <td>2.537629</td>\n",
       "      <td>81.0</td>\n",
       "      <td>84.00</td>\n",
       "      <td>84.0</td>\n",
       "      <td>86.50</td>\n",
       "      <td>89.0</td>\n",
       "    </tr>\n",
       "    <tr>\n",
       "      <th>...</th>\n",
       "      <th>...</th>\n",
       "      <td>...</td>\n",
       "      <td>...</td>\n",
       "      <td>...</td>\n",
       "      <td>...</td>\n",
       "      <td>...</td>\n",
       "      <td>...</td>\n",
       "      <td>...</td>\n",
       "      <td>...</td>\n",
       "    </tr>\n",
       "    <tr>\n",
       "      <th>US-France</th>\n",
       "      <th>white</th>\n",
       "      <td>1.0</td>\n",
       "      <td>88.000000</td>\n",
       "      <td>NaN</td>\n",
       "      <td>88.0</td>\n",
       "      <td>88.00</td>\n",
       "      <td>88.0</td>\n",
       "      <td>88.00</td>\n",
       "      <td>88.0</td>\n",
       "    </tr>\n",
       "    <tr>\n",
       "      <th>Ukraine</th>\n",
       "      <th>other</th>\n",
       "      <td>1.0</td>\n",
       "      <td>86.000000</td>\n",
       "      <td>NaN</td>\n",
       "      <td>86.0</td>\n",
       "      <td>86.00</td>\n",
       "      <td>86.0</td>\n",
       "      <td>86.00</td>\n",
       "      <td>86.0</td>\n",
       "    </tr>\n",
       "    <tr>\n",
       "      <th rowspan=\"3\" valign=\"top\">Uruguay</th>\n",
       "      <th>other1</th>\n",
       "      <td>2.0</td>\n",
       "      <td>85.500000</td>\n",
       "      <td>3.535534</td>\n",
       "      <td>83.0</td>\n",
       "      <td>84.25</td>\n",
       "      <td>85.5</td>\n",
       "      <td>86.75</td>\n",
       "      <td>88.0</td>\n",
       "    </tr>\n",
       "    <tr>\n",
       "      <th>red</th>\n",
       "      <td>4.0</td>\n",
       "      <td>85.250000</td>\n",
       "      <td>2.217356</td>\n",
       "      <td>82.0</td>\n",
       "      <td>85.00</td>\n",
       "      <td>86.0</td>\n",
       "      <td>86.25</td>\n",
       "      <td>87.0</td>\n",
       "    </tr>\n",
       "    <tr>\n",
       "      <th>white</th>\n",
       "      <td>1.0</td>\n",
       "      <td>84.000000</td>\n",
       "      <td>NaN</td>\n",
       "      <td>84.0</td>\n",
       "      <td>84.00</td>\n",
       "      <td>84.0</td>\n",
       "      <td>84.00</td>\n",
       "      <td>84.0</td>\n",
       "    </tr>\n",
       "  </tbody>\n",
       "</table>\n",
       "<p>107 rows × 8 columns</p>\n",
       "</div>"
      ],
      "text/plain": [
       "                  count       mean       std   min    25%   50%    75%   max\n",
       "country   color                                                             \n",
       "Argentina other    10.0  83.600000  1.897367  80.0  83.00  83.5  84.75  87.0\n",
       "          other1  102.0  85.745098  3.039953  80.0  84.00  86.0  87.00  94.0\n",
       "          red     489.0  86.670757  3.377236  80.0  84.00  87.0  89.00  97.0\n",
       "          white    79.0  84.088608  2.045570  80.0  83.00  84.0  85.00  89.0\n",
       "Australia other    14.0  84.857143  2.537629  81.0  84.00  84.0  86.50  89.0\n",
       "...                 ...        ...       ...   ...    ...   ...    ...   ...\n",
       "US-France white     1.0  88.000000       NaN  88.0  88.00  88.0  88.00  88.0\n",
       "Ukraine   other     1.0  86.000000       NaN  86.0  86.00  86.0  86.00  86.0\n",
       "Uruguay   other1    2.0  85.500000  3.535534  83.0  84.25  85.5  86.75  88.0\n",
       "          red       4.0  85.250000  2.217356  82.0  85.00  86.0  86.25  87.0\n",
       "          white     1.0  84.000000       NaN  84.0  84.00  84.0  84.00  84.0\n",
       "\n",
       "[107 rows x 8 columns]"
      ]
     },
     "execution_count": 14,
     "metadata": {},
     "output_type": "execute_result"
    }
   ],
   "source": [
    "# Получение уникальных значений столбца 'country' и 'color'\n",
    "unique_country = df['country'].unique()\n",
    "unique_color = df['color'].unique()\n",
    "print(*unique_country)\n",
    "print(*unique_color)\n",
    "df.groupby(['country','color'])['points'].describe()"
   ]
  },
  {
   "cell_type": "markdown",
   "metadata": {},
   "source": [
    "<h1 style=\"color:blue;\">Зависимости цвета вина и сорта винограда.</h1>"
   ]
  },
  {
   "cell_type": "code",
   "execution_count": 15,
   "metadata": {},
   "outputs": [
    {
     "data": {
      "text/html": [
       "<div>\n",
       "<style scoped>\n",
       "    .dataframe tbody tr th:only-of-type {\n",
       "        vertical-align: middle;\n",
       "    }\n",
       "\n",
       "    .dataframe tbody tr th {\n",
       "        vertical-align: top;\n",
       "    }\n",
       "\n",
       "    .dataframe thead th {\n",
       "        text-align: right;\n",
       "    }\n",
       "</style>\n",
       "<table border=\"1\" class=\"dataframe\">\n",
       "  <thead>\n",
       "    <tr style=\"text-align: right;\">\n",
       "      <th></th>\n",
       "      <th></th>\n",
       "      <th>count</th>\n",
       "      <th>mean</th>\n",
       "      <th>std</th>\n",
       "      <th>min</th>\n",
       "      <th>25%</th>\n",
       "      <th>50%</th>\n",
       "      <th>75%</th>\n",
       "      <th>max</th>\n",
       "    </tr>\n",
       "    <tr>\n",
       "      <th>color</th>\n",
       "      <th>variety</th>\n",
       "      <th></th>\n",
       "      <th></th>\n",
       "      <th></th>\n",
       "      <th></th>\n",
       "      <th></th>\n",
       "      <th></th>\n",
       "      <th></th>\n",
       "      <th></th>\n",
       "    </tr>\n",
       "  </thead>\n",
       "  <tbody>\n",
       "    <tr>\n",
       "      <th rowspan=\"3\" valign=\"top\">other</th>\n",
       "      <th>Champagne Blend</th>\n",
       "      <td>118.0</td>\n",
       "      <td>89.745763</td>\n",
       "      <td>3.486694</td>\n",
       "      <td>81.0</td>\n",
       "      <td>87.00</td>\n",
       "      <td>90.0</td>\n",
       "      <td>92.75</td>\n",
       "      <td>97.0</td>\n",
       "    </tr>\n",
       "    <tr>\n",
       "      <th>Rosé</th>\n",
       "      <td>361.0</td>\n",
       "      <td>86.379501</td>\n",
       "      <td>2.768377</td>\n",
       "      <td>80.0</td>\n",
       "      <td>84.00</td>\n",
       "      <td>86.0</td>\n",
       "      <td>88.00</td>\n",
       "      <td>95.0</td>\n",
       "    </tr>\n",
       "    <tr>\n",
       "      <th>Sparkling Blend</th>\n",
       "      <td>238.0</td>\n",
       "      <td>87.478992</td>\n",
       "      <td>3.060153</td>\n",
       "      <td>80.0</td>\n",
       "      <td>85.00</td>\n",
       "      <td>87.0</td>\n",
       "      <td>90.00</td>\n",
       "      <td>98.0</td>\n",
       "    </tr>\n",
       "    <tr>\n",
       "      <th rowspan=\"2\" valign=\"top\">other1</th>\n",
       "      <th>Agiorgitiko</th>\n",
       "      <td>17.0</td>\n",
       "      <td>84.882353</td>\n",
       "      <td>2.057983</td>\n",
       "      <td>81.0</td>\n",
       "      <td>84.00</td>\n",
       "      <td>85.0</td>\n",
       "      <td>86.00</td>\n",
       "      <td>88.0</td>\n",
       "    </tr>\n",
       "    <tr>\n",
       "      <th>Aglianico</th>\n",
       "      <td>30.0</td>\n",
       "      <td>88.800000</td>\n",
       "      <td>1.936937</td>\n",
       "      <td>84.0</td>\n",
       "      <td>87.25</td>\n",
       "      <td>88.5</td>\n",
       "      <td>90.00</td>\n",
       "      <td>93.0</td>\n",
       "    </tr>\n",
       "    <tr>\n",
       "      <th>...</th>\n",
       "      <th>...</th>\n",
       "      <td>...</td>\n",
       "      <td>...</td>\n",
       "      <td>...</td>\n",
       "      <td>...</td>\n",
       "      <td>...</td>\n",
       "      <td>...</td>\n",
       "      <td>...</td>\n",
       "      <td>...</td>\n",
       "    </tr>\n",
       "    <tr>\n",
       "      <th rowspan=\"5\" valign=\"top\">white</th>\n",
       "      <th>Pinot Gris</th>\n",
       "      <td>159.0</td>\n",
       "      <td>87.704403</td>\n",
       "      <td>2.647075</td>\n",
       "      <td>80.0</td>\n",
       "      <td>86.00</td>\n",
       "      <td>88.0</td>\n",
       "      <td>90.00</td>\n",
       "      <td>95.0</td>\n",
       "    </tr>\n",
       "    <tr>\n",
       "      <th>Portuguese White</th>\n",
       "      <td>96.0</td>\n",
       "      <td>87.010417</td>\n",
       "      <td>2.359727</td>\n",
       "      <td>83.0</td>\n",
       "      <td>85.00</td>\n",
       "      <td>87.0</td>\n",
       "      <td>89.00</td>\n",
       "      <td>93.0</td>\n",
       "    </tr>\n",
       "    <tr>\n",
       "      <th>Sauvignon Blanc</th>\n",
       "      <td>770.0</td>\n",
       "      <td>86.945455</td>\n",
       "      <td>2.711942</td>\n",
       "      <td>80.0</td>\n",
       "      <td>85.00</td>\n",
       "      <td>87.0</td>\n",
       "      <td>89.00</td>\n",
       "      <td>94.0</td>\n",
       "    </tr>\n",
       "    <tr>\n",
       "      <th>Viognier</th>\n",
       "      <td>171.0</td>\n",
       "      <td>87.438596</td>\n",
       "      <td>3.156790</td>\n",
       "      <td>80.0</td>\n",
       "      <td>85.00</td>\n",
       "      <td>88.0</td>\n",
       "      <td>90.00</td>\n",
       "      <td>94.0</td>\n",
       "    </tr>\n",
       "    <tr>\n",
       "      <th>White Blend</th>\n",
       "      <td>316.0</td>\n",
       "      <td>86.655063</td>\n",
       "      <td>2.877059</td>\n",
       "      <td>80.0</td>\n",
       "      <td>85.00</td>\n",
       "      <td>87.0</td>\n",
       "      <td>88.00</td>\n",
       "      <td>95.0</td>\n",
       "    </tr>\n",
       "  </tbody>\n",
       "</table>\n",
       "<p>406 rows × 8 columns</p>\n",
       "</div>"
      ],
      "text/plain": [
       "                         count       mean       std   min    25%   50%    75%  \\\n",
       "color  variety                                                                  \n",
       "other  Champagne Blend   118.0  89.745763  3.486694  81.0  87.00  90.0  92.75   \n",
       "       Rosé              361.0  86.379501  2.768377  80.0  84.00  86.0  88.00   \n",
       "       Sparkling Blend   238.0  87.478992  3.060153  80.0  85.00  87.0  90.00   \n",
       "other1 Agiorgitiko        17.0  84.882353  2.057983  81.0  84.00  85.0  86.00   \n",
       "       Aglianico          30.0  88.800000  1.936937  84.0  87.25  88.5  90.00   \n",
       "...                        ...        ...       ...   ...    ...   ...    ...   \n",
       "white  Pinot Gris        159.0  87.704403  2.647075  80.0  86.00  88.0  90.00   \n",
       "       Portuguese White   96.0  87.010417  2.359727  83.0  85.00  87.0  89.00   \n",
       "       Sauvignon Blanc   770.0  86.945455  2.711942  80.0  85.00  87.0  89.00   \n",
       "       Viognier          171.0  87.438596  3.156790  80.0  85.00  88.0  90.00   \n",
       "       White Blend       316.0  86.655063  2.877059  80.0  85.00  87.0  88.00   \n",
       "\n",
       "                          max  \n",
       "color  variety                 \n",
       "other  Champagne Blend   97.0  \n",
       "       Rosé              95.0  \n",
       "       Sparkling Blend   98.0  \n",
       "other1 Agiorgitiko       88.0  \n",
       "       Aglianico         93.0  \n",
       "...                       ...  \n",
       "white  Pinot Gris        95.0  \n",
       "       Portuguese White  93.0  \n",
       "       Sauvignon Blanc   94.0  \n",
       "       Viognier          94.0  \n",
       "       White Blend       95.0  \n",
       "\n",
       "[406 rows x 8 columns]"
      ]
     },
     "execution_count": 15,
     "metadata": {},
     "output_type": "execute_result"
    }
   ],
   "source": [
    "# Получение уникальных значений столбца 'variety'\n",
    "unique_variety = df['variety'].unique()\n",
    "#print(*unique_variety)\n",
    "df.groupby(['color','variety'])['points'].describe()"
   ]
  },
  {
   "cell_type": "code",
   "execution_count": 16,
   "metadata": {},
   "outputs": [
    {
     "data": {
      "image/png": "[encoded data removed]",
      "text/plain": [
       "<Figure size 640x480 with 1 Axes>"
      ]
     },
     "metadata": {},
     "output_type": "display_data"
    }
   ],
   "source": [
    "# Построение гистограммы по значению столбца color\n",
    "plt.hist(df['color'])\n",
    "plt.xlabel('color')\n",
    "plt.ylabel('points')\n",
    "plt.title('Гистограмма рейтинга по цвету')\n",
    "plt.show()  "
   ]
  },
  {
   "cell_type": "markdown",
   "metadata": {},
   "source": [
    "<h1 style=\"color:blue;\">Лучшие рейтинги</h1>"
   ]
  },
  {
   "cell_type": "code",
   "execution_count": 17,
   "metadata": {},
   "outputs": [
    {
     "data": {
      "text/html": [
       "<div>\n",
       "<style scoped>\n",
       "    .dataframe tbody tr th:only-of-type {\n",
       "        vertical-align: middle;\n",
       "    }\n",
       "\n",
       "    .dataframe tbody tr th {\n",
       "        vertical-align: top;\n",
       "    }\n",
       "\n",
       "    .dataframe thead th {\n",
       "        text-align: right;\n",
       "    }\n",
       "</style>\n",
       "<table border=\"1\" class=\"dataframe\">\n",
       "  <thead>\n",
       "    <tr style=\"text-align: right;\">\n",
       "      <th></th>\n",
       "      <th>country</th>\n",
       "      <th>description</th>\n",
       "      <th>points</th>\n",
       "      <th>price</th>\n",
       "      <th>province</th>\n",
       "      <th>variety</th>\n",
       "      <th>winery</th>\n",
       "      <th>color</th>\n",
       "      <th>country_to_continent</th>\n",
       "    </tr>\n",
       "  </thead>\n",
       "  <tbody>\n",
       "    <tr>\n",
       "      <th>323</th>\n",
       "      <td>France</td>\n",
       "      <td>A wine that has created its own universe. It h...</td>\n",
       "      <td>100</td>\n",
       "      <td>1400.0</td>\n",
       "      <td>Champagne</td>\n",
       "      <td>Chardonnay</td>\n",
       "      <td>Krug</td>\n",
       "      <td>white</td>\n",
       "      <td>Europe</td>\n",
       "    </tr>\n",
       "    <tr>\n",
       "      <th>17967</th>\n",
       "      <td>US</td>\n",
       "      <td>Impossibly aromatic. Hard to imagine greater c...</td>\n",
       "      <td>100</td>\n",
       "      <td>245.0</td>\n",
       "      <td>California</td>\n",
       "      <td>Cabernet Blend</td>\n",
       "      <td>Sloan</td>\n",
       "      <td>other1</td>\n",
       "      <td>North America</td>\n",
       "    </tr>\n",
       "    <tr>\n",
       "      <th>5955</th>\n",
       "      <td>Italy</td>\n",
       "      <td>A perfect wine from a classic vintage, the 200...</td>\n",
       "      <td>100</td>\n",
       "      <td>460.0</td>\n",
       "      <td>Tuscany</td>\n",
       "      <td>Merlot</td>\n",
       "      <td>Tenuta dell'Ornellaia</td>\n",
       "      <td>red</td>\n",
       "      <td>Europe</td>\n",
       "    </tr>\n",
       "    <tr>\n",
       "      <th>13188</th>\n",
       "      <td>France</td>\n",
       "      <td>A big, powerful wine that sums up the richness...</td>\n",
       "      <td>99</td>\n",
       "      <td>2300.0</td>\n",
       "      <td>Bordeaux</td>\n",
       "      <td>Bordeaux-style Red Blend</td>\n",
       "      <td>Château Latour</td>\n",
       "      <td>red</td>\n",
       "      <td>Europe</td>\n",
       "    </tr>\n",
       "    <tr>\n",
       "      <th>9203</th>\n",
       "      <td>Italy</td>\n",
       "      <td>Elegant and complex, this gorgeous wine is all...</td>\n",
       "      <td>99</td>\n",
       "      <td>175.0</td>\n",
       "      <td>Piedmont</td>\n",
       "      <td>Nebbiolo</td>\n",
       "      <td>Mascarello Giuseppe e Figlio</td>\n",
       "      <td>red</td>\n",
       "      <td>Europe</td>\n",
       "    </tr>\n",
       "  </tbody>\n",
       "</table>\n",
       "</div>"
      ],
      "text/plain": [
       "      country                                        description  points  \\\n",
       "323    France  A wine that has created its own universe. It h...     100   \n",
       "17967      US  Impossibly aromatic. Hard to imagine greater c...     100   \n",
       "5955    Italy  A perfect wine from a classic vintage, the 200...     100   \n",
       "13188  France  A big, powerful wine that sums up the richness...      99   \n",
       "9203    Italy  Elegant and complex, this gorgeous wine is all...      99   \n",
       "\n",
       "        price    province                   variety  \\\n",
       "323    1400.0   Champagne                Chardonnay   \n",
       "17967   245.0  California            Cabernet Blend   \n",
       "5955    460.0     Tuscany                    Merlot   \n",
       "13188  2300.0    Bordeaux  Bordeaux-style Red Blend   \n",
       "9203    175.0    Piedmont                  Nebbiolo   \n",
       "\n",
       "                             winery   color country_to_continent  \n",
       "323                            Krug   white               Europe  \n",
       "17967                         Sloan  other1        North America  \n",
       "5955          Tenuta dell'Ornellaia     red               Europe  \n",
       "13188                Château Latour     red               Europe  \n",
       "9203   Mascarello Giuseppe e Figlio     red               Europe  "
      ]
     },
     "execution_count": 17,
     "metadata": {},
     "output_type": "execute_result"
    }
   ],
   "source": [
    "# Вина какой области (`province`) получают наилучшие рейтинги? \n",
    "df.sort_values(by='points',ascending=False).head()"
   ]
  },
  {
   "cell_type": "markdown",
   "metadata": {},
   "source": [
    "<h1 style=\"color:blue;\">Рейтинги по странам</h1>"
   ]
  },
  {
   "cell_type": "code",
   "execution_count": 18,
   "metadata": {},
   "outputs": [
    {
     "data": {
      "text/plain": [
       "<Axes: xlabel='country', ylabel='points'>"
      ]
     },
     "execution_count": 18,
     "metadata": {},
     "output_type": "execute_result"
    },
    {
     "data": {
      "image/png": "[encoded data removed]",
      "text/plain": [
       "<Figure size 640x480 with 1 Axes>"
      ]
     },
     "metadata": {},
     "output_type": "display_data"
    }
   ],
   "source": [
    "# Построение ящика с усами для столбца\n",
    "sns.boxplot(x='country',y='points',data=df,)"
   ]
  },
  {
   "cell_type": "markdown",
   "metadata": {},
   "source": [
    "<h1 style=\"color:blue;\">Рейтинги по сортам вина</h1>"
   ]
  },
  {
   "cell_type": "code",
   "execution_count": 19,
   "metadata": {},
   "outputs": [
    {
     "data": {
      "text/plain": [
       "<Axes: xlabel='variety', ylabel='points'>"
      ]
     },
     "execution_count": 19,
     "metadata": {},
     "output_type": "execute_result"
    },
    {
     "data": {
      "image/png": "[encoded data removed]",
      "text/plain": [
       "<Figure size 640x480 with 1 Axes>"
      ]
     },
     "metadata": {},
     "output_type": "display_data"
    }
   ],
   "source": [
    "# Построение ящика с усами для столбца \n",
    "sns.boxplot(x='variety',y='points',data=df,)"
   ]
  },
  {
   "cell_type": "markdown",
   "metadata": {},
   "source": [
    "<h1 style=\"color:blue;\">Рейтинги по цвету вина</h1>"
   ]
  },
  {
   "cell_type": "code",
   "execution_count": 20,
   "metadata": {},
   "outputs": [
    {
     "data": {
      "text/plain": [
       "<Axes: xlabel='color', ylabel='points'>"
      ]
     },
     "execution_count": 20,
     "metadata": {},
     "output_type": "execute_result"
    },
    {
     "data": {
      "image/png": "[encoded data removed]",
      "text/plain": [
       "<Figure size 640x480 with 1 Axes>"
      ]
     },
     "metadata": {},
     "output_type": "display_data"
    }
   ],
   "source": [
    "# Построение ящика с усами для столбца\n",
    "sns.boxplot(x='color',y='points',data=df,)\n"
   ]
  },
  {
   "cell_type": "markdown",
   "metadata": {},
   "source": [
    "<h1 style=\"color:blue;\">Диаграмма рассеяния рейтинг и цена</h1>"
   ]
  },
  {
   "cell_type": "code",
   "execution_count": 21,
   "metadata": {},
   "outputs": [
    {
     "data": {
      "image/png": "[encoded data removed]",
      "text/plain": [
       "<Figure size 640x480 with 1 Axes>"
      ]
     },
     "metadata": {},
     "output_type": "display_data"
    }
   ],
   "source": [
    "plt.scatter(x = df['price'], y = df['points']) # цена и рейтинг\n",
    "plt.xlabel(\"Цена\")\n",
    "plt.ylabel(\"Рейтинг\")\n",
    "plt.title('Диаграмма рассеяния')\n",
    "plt.show()"
   ]
  },
  {
   "cell_type": "markdown",
   "metadata": {},
   "source": [
    "<h1 style=\"color:blue;\">Корреляция между рейтингами и ценами</h1>"
   ]
  },
  {
   "cell_type": "code",
   "execution_count": 22,
   "metadata": {},
   "outputs": [
    {
     "data": {
      "text/html": [
       "<div>\n",
       "<style scoped>\n",
       "    .dataframe tbody tr th:only-of-type {\n",
       "        vertical-align: middle;\n",
       "    }\n",
       "\n",
       "    .dataframe tbody tr th {\n",
       "        vertical-align: top;\n",
       "    }\n",
       "\n",
       "    .dataframe thead th {\n",
       "        text-align: right;\n",
       "    }\n",
       "</style>\n",
       "<table border=\"1\" class=\"dataframe\">\n",
       "  <thead>\n",
       "    <tr style=\"text-align: right;\">\n",
       "      <th></th>\n",
       "      <th>points</th>\n",
       "      <th>price</th>\n",
       "    </tr>\n",
       "  </thead>\n",
       "  <tbody>\n",
       "    <tr>\n",
       "      <th>points</th>\n",
       "      <td>1.000000</td>\n",
       "      <td>0.426109</td>\n",
       "    </tr>\n",
       "    <tr>\n",
       "      <th>price</th>\n",
       "      <td>0.426109</td>\n",
       "      <td>1.000000</td>\n",
       "    </tr>\n",
       "  </tbody>\n",
       "</table>\n",
       "</div>"
      ],
      "text/plain": [
       "          points     price\n",
       "points  1.000000  0.426109\n",
       "price   0.426109  1.000000"
      ]
     },
     "execution_count": 22,
     "metadata": {},
     "output_type": "execute_result"
    }
   ],
   "source": [
    "df[['points','price']].corr()"
   ]
  },
  {
   "cell_type": "markdown",
   "metadata": {},
   "source": [
    "# 6.Ответить на вопросы:\n",
    "#           Какая страна производила самое дорогое вино?\n",
    "#           Какое вино было самым дешевым?"
   ]
  },
  {
   "cell_type": "markdown",
   "metadata": {},
   "source": [
    "<h1 style=\"color:blue;\">Cамое дорогое вино</h1>"
   ]
  },
  {
   "cell_type": "code",
   "execution_count": 23,
   "metadata": {},
   "outputs": [
    {
     "name": "stdout",
     "output_type": "stream",
     "text": [
      "Цена самого дорогого вина($): 2300.0\n",
      "Страна:\n",
      "France\n",
      "Название вина:\n",
      "Bordeaux-style Red Blend\n"
     ]
    }
   ],
   "source": [
    "max_value = df['price'].max()  # Максимальная цена\n",
    "print('Цена самого дорогого вина($):',max_value)\n",
    "print('Страна:')\n",
    "max_price_country = df.loc[df['price'].idxmax(), 'country']\n",
    "print(max_price_country)\n",
    "print('Название вина:')\n",
    "max_price_variety = df.loc[df['price'].idxmax(), 'variety']\n",
    "print(max_price_variety)"
   ]
  },
  {
   "cell_type": "markdown",
   "metadata": {},
   "source": [
    "<h1 style=\"color:blue;\">Cамое дешовое вино</h1>"
   ]
  },
  {
   "cell_type": "code",
   "execution_count": 24,
   "metadata": {},
   "outputs": [
    {
     "name": "stdout",
     "output_type": "stream",
     "text": [
      "Цена самого дешового вина($): 5.0\n",
      "Страна:\n",
      "Australia\n",
      "Название вина:\n",
      "Cabernet Sauvignon\n"
     ]
    }
   ],
   "source": [
    "min_value = df['price'].min()  # Максимальная цена\n",
    "print('Цена самого дешового вина($):',min_value)\n",
    "print('Страна:')\n",
    "min_price_country = df.loc[df['price'].idxmin(), 'country']\n",
    "print(min_price_country)\n",
    "print('Название вина:')\n",
    "min_price_variety = df.loc[df['price'].idxmin(), 'variety']\n",
    "print(min_price_variety)"
   ]
  },
  {
   "cell_type": "markdown",
   "metadata": {},
   "source": [
    "# Самый популярный сорт вин по странам?"
   ]
  },
  {
   "cell_type": "markdown",
   "metadata": {},
   "source": [
    "<h1 style=\"color:blue;\">Cамые популярные сорта вина по странам</h1>"
   ]
  },
  {
   "cell_type": "code",
   "execution_count": 25,
   "metadata": {},
   "outputs": [
    {
     "name": "stdout",
     "output_type": "stream",
     "text": [
      "Самые популярные сорта вин по странам:\n",
      "country\n",
      "Argentina                             Malbec\n",
      "Australia                             Shiraz\n",
      "Austria                     Grüner Veltliner\n",
      "Bosnia and Herzegovina               Blatina\n",
      "Brazil                       Sparkling Blend\n",
      "Bulgaria                              Merlot\n",
      "Canada                              Riesling\n",
      "Chile                     Cabernet Sauvignon\n",
      "China                             Chardonnay\n",
      "Croatia                             Malvasia\n",
      "Cyprus                             Red Blend\n",
      "France                            Chardonnay\n",
      "Georgia                          White Blend\n",
      "Germany                             Riesling\n",
      "Greece                             Red Blend\n",
      "Hungary                               Tokaji\n",
      "Israel                    Cabernet Sauvignon\n",
      "Italy                              Red Blend\n",
      "Lebanon                          White Blend\n",
      "Luxembourg                          Riesling\n",
      "Mexico                             Red Blend\n",
      "Moldova                            Red Blend\n",
      "Montenegro                            Vranec\n",
      "New Zealand                  Sauvignon Blanc\n",
      "Portugal                      Portuguese Red\n",
      "Romania                           Pinot Noir\n",
      "Serbia                             Tamjanika\n",
      "Slovenia                               Teran\n",
      "South Africa                 Sauvignon Blanc\n",
      "South Korea                            Meoru\n",
      "Spain                            Tempranillo\n",
      "Switzerland                           Merlot\n",
      "Turkey                             Red Blend\n",
      "US                                Pinot Noir\n",
      "US-France                           Viognier\n",
      "Ukraine                      Sparkling Blend\n",
      "Uruguay                            Red Blend\n",
      "Name: variety, dtype: object\n"
     ]
    }
   ],
   "source": [
    "popular_variety = df.groupby('country')['variety'].apply(lambda x: x.value_counts().idxmax())\n",
    "print(\"Самые популярные сорта вин по странам:\")\n",
    "print(popular_variety)"
   ]
  },
  {
   "cell_type": "markdown",
   "metadata": {},
   "source": [
    "<h1 style=\"color:blue;\">Победитель по популярности</h1>"
   ]
  },
  {
   "cell_type": "code",
   "execution_count": 26,
   "metadata": {},
   "outputs": [
    {
     "name": "stdout",
     "output_type": "stream",
     "text": [
      "Победитель по по пулярности: Pinot Noir\n"
     ]
    }
   ],
   "source": [
    "popular_type = df['variety'].value_counts().idxmax()\n",
    "print(\"Победитель по по пулярности:\", popular_type)"
   ]
  },
  {
   "cell_type": "markdown",
   "metadata": {},
   "source": [
    "# Вина какой области (`province`) получают наилучшие рейтинги? \n",
    "# Более дорогие вина оцениваются выше?"
   ]
  },
  {
   "cell_type": "markdown",
   "metadata": {},
   "source": [
    "<h1 style=\"color:blue;\">Лучшие рейтинги</h1>"
   ]
  },
  {
   "cell_type": "code",
   "execution_count": 27,
   "metadata": {},
   "outputs": [
    {
     "data": {
      "text/html": [
       "<div>\n",
       "<style scoped>\n",
       "    .dataframe tbody tr th:only-of-type {\n",
       "        vertical-align: middle;\n",
       "    }\n",
       "\n",
       "    .dataframe tbody tr th {\n",
       "        vertical-align: top;\n",
       "    }\n",
       "\n",
       "    .dataframe thead th {\n",
       "        text-align: right;\n",
       "    }\n",
       "</style>\n",
       "<table border=\"1\" class=\"dataframe\">\n",
       "  <thead>\n",
       "    <tr style=\"text-align: right;\">\n",
       "      <th></th>\n",
       "      <th>country</th>\n",
       "      <th>description</th>\n",
       "      <th>points</th>\n",
       "      <th>price</th>\n",
       "      <th>province</th>\n",
       "      <th>variety</th>\n",
       "      <th>winery</th>\n",
       "      <th>color</th>\n",
       "      <th>country_to_continent</th>\n",
       "    </tr>\n",
       "  </thead>\n",
       "  <tbody>\n",
       "    <tr>\n",
       "      <th>323</th>\n",
       "      <td>France</td>\n",
       "      <td>A wine that has created its own universe. It h...</td>\n",
       "      <td>100</td>\n",
       "      <td>1400.0</td>\n",
       "      <td>Champagne</td>\n",
       "      <td>Chardonnay</td>\n",
       "      <td>Krug</td>\n",
       "      <td>white</td>\n",
       "      <td>Europe</td>\n",
       "    </tr>\n",
       "    <tr>\n",
       "      <th>17967</th>\n",
       "      <td>US</td>\n",
       "      <td>Impossibly aromatic. Hard to imagine greater c...</td>\n",
       "      <td>100</td>\n",
       "      <td>245.0</td>\n",
       "      <td>California</td>\n",
       "      <td>Cabernet Blend</td>\n",
       "      <td>Sloan</td>\n",
       "      <td>other1</td>\n",
       "      <td>North America</td>\n",
       "    </tr>\n",
       "    <tr>\n",
       "      <th>5955</th>\n",
       "      <td>Italy</td>\n",
       "      <td>A perfect wine from a classic vintage, the 200...</td>\n",
       "      <td>100</td>\n",
       "      <td>460.0</td>\n",
       "      <td>Tuscany</td>\n",
       "      <td>Merlot</td>\n",
       "      <td>Tenuta dell'Ornellaia</td>\n",
       "      <td>red</td>\n",
       "      <td>Europe</td>\n",
       "    </tr>\n",
       "    <tr>\n",
       "      <th>13188</th>\n",
       "      <td>France</td>\n",
       "      <td>A big, powerful wine that sums up the richness...</td>\n",
       "      <td>99</td>\n",
       "      <td>2300.0</td>\n",
       "      <td>Bordeaux</td>\n",
       "      <td>Bordeaux-style Red Blend</td>\n",
       "      <td>Château Latour</td>\n",
       "      <td>red</td>\n",
       "      <td>Europe</td>\n",
       "    </tr>\n",
       "    <tr>\n",
       "      <th>9203</th>\n",
       "      <td>Italy</td>\n",
       "      <td>Elegant and complex, this gorgeous wine is all...</td>\n",
       "      <td>99</td>\n",
       "      <td>175.0</td>\n",
       "      <td>Piedmont</td>\n",
       "      <td>Nebbiolo</td>\n",
       "      <td>Mascarello Giuseppe e Figlio</td>\n",
       "      <td>red</td>\n",
       "      <td>Europe</td>\n",
       "    </tr>\n",
       "  </tbody>\n",
       "</table>\n",
       "</div>"
      ],
      "text/plain": [
       "      country                                        description  points  \\\n",
       "323    France  A wine that has created its own universe. It h...     100   \n",
       "17967      US  Impossibly aromatic. Hard to imagine greater c...     100   \n",
       "5955    Italy  A perfect wine from a classic vintage, the 200...     100   \n",
       "13188  France  A big, powerful wine that sums up the richness...      99   \n",
       "9203    Italy  Elegant and complex, this gorgeous wine is all...      99   \n",
       "\n",
       "        price    province                   variety  \\\n",
       "323    1400.0   Champagne                Chardonnay   \n",
       "17967   245.0  California            Cabernet Blend   \n",
       "5955    460.0     Tuscany                    Merlot   \n",
       "13188  2300.0    Bordeaux  Bordeaux-style Red Blend   \n",
       "9203    175.0    Piedmont                  Nebbiolo   \n",
       "\n",
       "                             winery   color country_to_continent  \n",
       "323                            Krug   white               Europe  \n",
       "17967                         Sloan  other1        North America  \n",
       "5955          Tenuta dell'Ornellaia     red               Europe  \n",
       "13188                Château Latour     red               Europe  \n",
       "9203   Mascarello Giuseppe e Figlio     red               Europe  "
      ]
     },
     "execution_count": 27,
     "metadata": {},
     "output_type": "execute_result"
    }
   ],
   "source": [
    "# Вина какой области (`province`) получают наилучшие рейтинги? \n",
    "df.sort_values(by='points',ascending=False).head()"
   ]
  },
  {
   "cell_type": "code",
   "execution_count": 28,
   "metadata": {},
   "outputs": [
    {
     "data": {
      "image/png": "[encoded data removed]",
      "text/plain": [
       "<Figure size 640x480 with 1 Axes>"
      ]
     },
     "metadata": {},
     "output_type": "display_data"
    }
   ],
   "source": [
    "plt.scatter(x = df['price'], y = df['points']) # цена и рейтинг\n",
    "plt.xlabel(\"Цена\")\n",
    "plt.ylabel(\"Рейтинг\")\n",
    "plt.title('Диаграмма рассеяния')\n",
    "plt.show()"
   ]
  },
  {
   "cell_type": "markdown",
   "metadata": {},
   "source": [
    "Из таблицы и диаграммы рассеивания видно, что дорогие вина не всегда оцениваются выше."
   ]
  },
  {
   "cell_type": "markdown",
   "metadata": {},
   "source": [
    "# Определить, какие вина лидируют по рейтингам. Выберите несколько вин с наилучшим рейтингом."
   ]
  },
  {
   "cell_type": "markdown",
   "metadata": {},
   "source": [
    "<h1 style=\"color:blue;\">Cамые популярные сорта вина по рейтингам</h1>"
   ]
  },
  {
   "cell_type": "code",
   "execution_count": 29,
   "metadata": {},
   "outputs": [
    {
     "name": "stdout",
     "output_type": "stream",
     "text": [
      "Самые популярные сорта вин по рейтингам:\n"
     ]
    },
    {
     "data": {
      "text/plain": [
       "points\n",
       "100            Chardonnay\n",
       "99                  Syrah\n",
       "98             Pinot Noir\n",
       "97              Red Blend\n",
       "96             Pinot Noir\n",
       "95             Pinot Noir\n",
       "94             Pinot Noir\n",
       "93             Pinot Noir\n",
       "92             Pinot Noir\n",
       "91             Pinot Noir\n",
       "90             Pinot Noir\n",
       "89             Pinot Noir\n",
       "88             Pinot Noir\n",
       "87             Chardonnay\n",
       "86             Chardonnay\n",
       "85             Chardonnay\n",
       "84             Chardonnay\n",
       "83             Chardonnay\n",
       "82             Chardonnay\n",
       "81     Cabernet Sauvignon\n",
       "80              Zinfandel\n",
       "Name: variety, dtype: object"
      ]
     },
     "execution_count": 29,
     "metadata": {},
     "output_type": "execute_result"
    }
   ],
   "source": [
    "popular_variety_points = df.groupby('points')['variety'].apply(lambda x: x.value_counts().idxmax())\n",
    "print(\"Самые популярные сорта вин по рейтингам:\")\n",
    "popular_variety_points[::-1]"
   ]
  },
  {
   "cell_type": "markdown",
   "metadata": {},
   "source": [
    "# Какие винодельни производят самые дорогие/высоко оцененные вина?"
   ]
  },
  {
   "cell_type": "markdown",
   "metadata": {},
   "source": [
    "<h1 style=\"color:blue;\">Винодельни производящие самые дорогие вина</h1>"
   ]
  },
  {
   "cell_type": "code",
   "execution_count": 30,
   "metadata": {},
   "outputs": [
    {
     "name": "stdout",
     "output_type": "stream",
     "text": [
      "Винодельни производящие самые дорогие вина:\n"
     ]
    },
    {
     "data": {
      "text/plain": [
       "price\n",
       "2300.0     Château Latour\n",
       "1400.0               Krug\n",
       "1100.0     Emmerich Knoll\n",
       "850.0      Château Ausone\n",
       "764.0        Royal Tokaji\n",
       "               ...       \n",
       "9.0            DFJ Vinhos\n",
       "8.0            DFJ Vinhos\n",
       "7.0            DFJ Vinhos\n",
       "6.0           Funky Llama\n",
       "5.0       Kelly's Revenge\n",
       "Name: winery, Length: 210, dtype: object"
      ]
     },
     "execution_count": 30,
     "metadata": {},
     "output_type": "execute_result"
    }
   ],
   "source": [
    "popular_winery_price = df.groupby('price')['winery'].apply(lambda x: x.value_counts().idxmax())\n",
    "print(\"Винодельни производящие самые дорогие вина:\")\n",
    "popular_winery_price[::-1]"
   ]
  },
  {
   "cell_type": "markdown",
   "metadata": {},
   "source": [
    "<h1 style=\"color:blue;\">Винодельни производящие самые высоко оцененные вина</h1>"
   ]
  },
  {
   "cell_type": "code",
   "execution_count": 31,
   "metadata": {},
   "outputs": [
    {
     "name": "stdout",
     "output_type": "stream",
     "text": [
      "Винодельни производящие самые высоко оцененные вина:\n"
     ]
    },
    {
     "data": {
      "text/plain": [
       "points\n",
       "100                     Krug\n",
       "99                    Cayuse\n",
       "98           Williams Selyem\n",
       "97           Williams Selyem\n",
       "96           Williams Selyem\n",
       "95           Williams Selyem\n",
       "94                    Failla\n",
       "93           Williams Selyem\n",
       "92                Testarossa\n",
       "91        Wines & Winemakers\n",
       "90            L'Ecole No. 41\n",
       "89                    Montes\n",
       "88     Chateau Ste. Michelle\n",
       "87                     Hogue\n",
       "86            Columbia Crest\n",
       "85                DFJ Vinhos\n",
       "84                San Simeon\n",
       "83                Wellington\n",
       "82          Lucas & Lewellen\n",
       "81            Parkers Estate\n",
       "80                Montecillo\n",
       "Name: winery, dtype: object"
      ]
     },
     "execution_count": 31,
     "metadata": {},
     "output_type": "execute_result"
    }
   ],
   "source": [
    "popular_winery_points = df.groupby('points')['winery'].apply(lambda x: x.value_counts().idxmax())\n",
    "print(\"Винодельни производящие самые высоко оцененные вина:\")\n",
    "popular_winery_points[::-1]"
   ]
  },
  {
   "cell_type": "markdown",
   "metadata": {},
   "source": [
    "# Какие винодельни/регионы/страны производят вина с самым низким рейтингом?"
   ]
  },
  {
   "cell_type": "markdown",
   "metadata": {},
   "source": [
    "<h1 style=\"color:blue;\">Винодельни производящие вина с самым низким рейтингом</h1>"
   ]
  },
  {
   "cell_type": "code",
   "execution_count": 32,
   "metadata": {},
   "outputs": [
    {
     "name": "stdout",
     "output_type": "stream",
     "text": [
      "Винодельни производящие вина с самым низким рейтингом:\n"
     ]
    },
    {
     "data": {
      "text/plain": [
       "points\n",
       "80                TorresManur\n",
       "81                    Valiano\n",
       "82         Bodegas Los Llanos\n",
       "83                    Bianchi\n",
       "84             Eagles Landing\n",
       "85                  Thornbury\n",
       "86                 Whitehaven\n",
       "87                  Vallobera\n",
       "88                Santa Lucia\n",
       "89                    Muratie\n",
       "90                      Krutz\n",
       "91                 Neumeister\n",
       "92                      Juris\n",
       "93                    Cefalu'\n",
       "94             Leeuwin Estate\n",
       "95           Domaine Weinbach\n",
       "96     Domaine Zind-Humbrecht\n",
       "97                      Salon\n",
       "98                 Vine Cliff\n",
       "99                     Cayuse\n",
       "100                      Krug\n",
       "Name: winery, dtype: object"
      ]
     },
     "execution_count": 32,
     "metadata": {},
     "output_type": "execute_result"
    }
   ],
   "source": [
    "popular_winery_points = df.groupby('points')['winery'].apply(lambda x: x.value_counts().idxmin())\n",
    "print(\"Винодельни производящие вина с самым низким рейтингом:\")\n",
    "popular_winery_points"
   ]
  },
  {
   "cell_type": "markdown",
   "metadata": {},
   "source": [
    "<h1 style=\"color:blue;\">Регионы производят вина с самым низким рейтингом</h1>"
   ]
  },
  {
   "cell_type": "code",
   "execution_count": 33,
   "metadata": {},
   "outputs": [
    {
     "name": "stdout",
     "output_type": "stream",
     "text": [
      "Регионы производящие вина с самым низким рейтингом:\n"
     ]
    },
    {
     "data": {
      "text/plain": [
       "points\n",
       "80           Oceania\n",
       "81           Unknown\n",
       "82           Unknown\n",
       "83              Asia\n",
       "84              Asia\n",
       "85              Asia\n",
       "86              Asia\n",
       "87              Asia\n",
       "88           Unknown\n",
       "89              Asia\n",
       "90              Asia\n",
       "91              Asia\n",
       "92              Asia\n",
       "93     Latin America\n",
       "94           Oceania\n",
       "95           Oceania\n",
       "96           Oceania\n",
       "97     Latin America\n",
       "98           Oceania\n",
       "99     North America\n",
       "100    North America\n",
       "Name: country_to_continent, dtype: object"
      ]
     },
     "execution_count": 33,
     "metadata": {},
     "output_type": "execute_result"
    }
   ],
   "source": [
    "popular_country_to_continent_points = df.groupby('points')['country_to_continent'].apply(lambda x: x.value_counts().idxmin())\n",
    "print(\"Регионы производящие вина с самым низким рейтингом:\")\n",
    "popular_country_to_continent_points"
   ]
  },
  {
   "cell_type": "markdown",
   "metadata": {},
   "source": [
    "<h1 style=\"color:blue;\">Страны производят вина с самым низким рейтингом</h1>"
   ]
  },
  {
   "cell_type": "code",
   "execution_count": 34,
   "metadata": {},
   "outputs": [
    {
     "name": "stdout",
     "output_type": "stream",
     "text": [
      "Страны производящие вина с самым низким рейтингом:\n"
     ]
    },
    {
     "data": {
      "text/plain": [
       "points\n",
       "80          Mexico\n",
       "81         Georgia\n",
       "82         Austria\n",
       "83        Slovenia\n",
       "84         Uruguay\n",
       "85          Canada\n",
       "86     Switzerland\n",
       "87          Mexico\n",
       "88         Hungary\n",
       "89         Croatia\n",
       "90         Hungary\n",
       "91          Israel\n",
       "92          Canada\n",
       "93         Hungary\n",
       "94         Hungary\n",
       "95       Australia\n",
       "96       Australia\n",
       "97         Germany\n",
       "98       Australia\n",
       "99              US\n",
       "100         France\n",
       "Name: country, dtype: object"
      ]
     },
     "execution_count": 34,
     "metadata": {},
     "output_type": "execute_result"
    }
   ],
   "source": [
    "popular_country_points = df.groupby('points')['country'].apply(lambda x: x.value_counts().idxmin())\n",
    "print(\"Страны производящие вина с самым низким рейтингом:\")\n",
    "popular_country_points"
   ]
  }
 ],
 "metadata": {
  "kernelspec": {
   "display_name": "Python 3 (ipykernel)",
   "language": "python",
   "name": "python3"
  },
  "language_info": {
   "codemirror_mode": {
    "name": "ipython",
    "version": 3
   },
   "file_extension": ".py",
   "mimetype": "text/x-python",
   "name": "python",
   "nbconvert_exporter": "python",
   "pygments_lexer": "ipython3",
   "version": "3.8.10"
  },
  "toc": {
   "nav_menu": {},
   "number_sections": true,
   "sideBar": true,
   "skip_h1_title": false,
   "toc_cell": false,
   "toc_position": {},
   "toc_section_display": "block",
   "toc_window_display": false
  },
  "varInspector": {
   "cols": {
    "lenName": 16,
    "lenType": 16,
    "lenVar": 40
   },
   "kernels_config": {
    "python": {
     "delete_cmd_postfix": "",
     "delete_cmd_prefix": "del ",
     "library": "var_list.py",
     "varRefreshCmd": "print(var_dic_list())"
    },
    "r": {
     "delete_cmd_postfix": ") ",
     "delete_cmd_prefix": "rm(",
     "library": "var_list.r",
     "varRefreshCmd": "cat(var_dic_list()) "
    }
   },
   "types_to_exclude": [
    "module",
    "function",
    "builtin_function_or_method",
    "instance",
    "_Feature"
   ],
   "window_display": false
  }
 },
 "nbformat": 4,
 "nbformat_minor": 2
}
